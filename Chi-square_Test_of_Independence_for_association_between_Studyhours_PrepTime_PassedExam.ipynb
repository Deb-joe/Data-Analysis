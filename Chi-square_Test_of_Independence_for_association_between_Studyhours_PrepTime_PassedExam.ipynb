{
  "nbformat": 4,
  "nbformat_minor": 0,
  "metadata": {
    "colab": {
      "provenance": [],
      "authorship_tag": "ABX9TyNiLtB3orO4awUXVcg+rm1c",
      "include_colab_link": true
    },
    "kernelspec": {
      "name": "python3",
      "display_name": "Python 3"
    },
    "language_info": {
      "name": "python"
    }
  },
  "cells": [
    {
      "cell_type": "markdown",
      "metadata": {
        "id": "view-in-github",
        "colab_type": "text"
      },
      "source": [
        "<a href=\"https://colab.research.google.com/github/Deb-joe/Data-Analysis/blob/main/Chi-square_Test_of_Independence_for_association_between_Studyhours_PrepTime_PassedExam.ipynb\" target=\"_parent\"><img src=\"https://colab.research.google.com/assets/colab-badge.svg\" alt=\"Open In Colab\"/></a>"
      ]
    },
    {
      "cell_type": "code",
      "execution_count": 1,
      "metadata": {
        "colab": {
          "base_uri": "https://localhost:8080/",
          "height": 363
        },
        "id": "YaslScFKkUKB",
        "outputId": "a46f169f-4043-44d2-e6fd-27fe14a113e5"
      },
      "outputs": [
        {
          "output_type": "execute_result",
          "data": {
            "text/plain": [
              "   StudyHours  PrepCourse  PassedExam\n",
              "0         2.5           0           0\n",
              "1         1.5           0           0\n",
              "2         3.0           1           1\n",
              "3         2.0           0           0\n",
              "4         4.0           1           1\n",
              "5         5.0           1           1\n",
              "6         1.0           0           0\n",
              "7         3.5           1           1\n",
              "8         2.5           0           0\n",
              "9         4.0           1           1"
            ],
            "text/html": [
              "\n",
              "  <div id=\"df-77de736f-3bc0-4ce4-914b-4d40766f3f2d\" class=\"colab-df-container\">\n",
              "    <div>\n",
              "<style scoped>\n",
              "    .dataframe tbody tr th:only-of-type {\n",
              "        vertical-align: middle;\n",
              "    }\n",
              "\n",
              "    .dataframe tbody tr th {\n",
              "        vertical-align: top;\n",
              "    }\n",
              "\n",
              "    .dataframe thead th {\n",
              "        text-align: right;\n",
              "    }\n",
              "</style>\n",
              "<table border=\"1\" class=\"dataframe\">\n",
              "  <thead>\n",
              "    <tr style=\"text-align: right;\">\n",
              "      <th></th>\n",
              "      <th>StudyHours</th>\n",
              "      <th>PrepCourse</th>\n",
              "      <th>PassedExam</th>\n",
              "    </tr>\n",
              "  </thead>\n",
              "  <tbody>\n",
              "    <tr>\n",
              "      <th>0</th>\n",
              "      <td>2.5</td>\n",
              "      <td>0</td>\n",
              "      <td>0</td>\n",
              "    </tr>\n",
              "    <tr>\n",
              "      <th>1</th>\n",
              "      <td>1.5</td>\n",
              "      <td>0</td>\n",
              "      <td>0</td>\n",
              "    </tr>\n",
              "    <tr>\n",
              "      <th>2</th>\n",
              "      <td>3.0</td>\n",
              "      <td>1</td>\n",
              "      <td>1</td>\n",
              "    </tr>\n",
              "    <tr>\n",
              "      <th>3</th>\n",
              "      <td>2.0</td>\n",
              "      <td>0</td>\n",
              "      <td>0</td>\n",
              "    </tr>\n",
              "    <tr>\n",
              "      <th>4</th>\n",
              "      <td>4.0</td>\n",
              "      <td>1</td>\n",
              "      <td>1</td>\n",
              "    </tr>\n",
              "    <tr>\n",
              "      <th>5</th>\n",
              "      <td>5.0</td>\n",
              "      <td>1</td>\n",
              "      <td>1</td>\n",
              "    </tr>\n",
              "    <tr>\n",
              "      <th>6</th>\n",
              "      <td>1.0</td>\n",
              "      <td>0</td>\n",
              "      <td>0</td>\n",
              "    </tr>\n",
              "    <tr>\n",
              "      <th>7</th>\n",
              "      <td>3.5</td>\n",
              "      <td>1</td>\n",
              "      <td>1</td>\n",
              "    </tr>\n",
              "    <tr>\n",
              "      <th>8</th>\n",
              "      <td>2.5</td>\n",
              "      <td>0</td>\n",
              "      <td>0</td>\n",
              "    </tr>\n",
              "    <tr>\n",
              "      <th>9</th>\n",
              "      <td>4.0</td>\n",
              "      <td>1</td>\n",
              "      <td>1</td>\n",
              "    </tr>\n",
              "  </tbody>\n",
              "</table>\n",
              "</div>\n",
              "    <div class=\"colab-df-buttons\">\n",
              "\n",
              "  <div class=\"colab-df-container\">\n",
              "    <button class=\"colab-df-convert\" onclick=\"convertToInteractive('df-77de736f-3bc0-4ce4-914b-4d40766f3f2d')\"\n",
              "            title=\"Convert this dataframe to an interactive table.\"\n",
              "            style=\"display:none;\">\n",
              "\n",
              "  <svg xmlns=\"http://www.w3.org/2000/svg\" height=\"24px\" viewBox=\"0 -960 960 960\">\n",
              "    <path d=\"M120-120v-720h720v720H120Zm60-500h600v-160H180v160Zm220 220h160v-160H400v160Zm0 220h160v-160H400v160ZM180-400h160v-160H180v160Zm440 0h160v-160H620v160ZM180-180h160v-160H180v160Zm440 0h160v-160H620v160Z\"/>\n",
              "  </svg>\n",
              "    </button>\n",
              "\n",
              "  <style>\n",
              "    .colab-df-container {\n",
              "      display:flex;\n",
              "      gap: 12px;\n",
              "    }\n",
              "\n",
              "    .colab-df-convert {\n",
              "      background-color: #E8F0FE;\n",
              "      border: none;\n",
              "      border-radius: 50%;\n",
              "      cursor: pointer;\n",
              "      display: none;\n",
              "      fill: #1967D2;\n",
              "      height: 32px;\n",
              "      padding: 0 0 0 0;\n",
              "      width: 32px;\n",
              "    }\n",
              "\n",
              "    .colab-df-convert:hover {\n",
              "      background-color: #E2EBFA;\n",
              "      box-shadow: 0px 1px 2px rgba(60, 64, 67, 0.3), 0px 1px 3px 1px rgba(60, 64, 67, 0.15);\n",
              "      fill: #174EA6;\n",
              "    }\n",
              "\n",
              "    .colab-df-buttons div {\n",
              "      margin-bottom: 4px;\n",
              "    }\n",
              "\n",
              "    [theme=dark] .colab-df-convert {\n",
              "      background-color: #3B4455;\n",
              "      fill: #D2E3FC;\n",
              "    }\n",
              "\n",
              "    [theme=dark] .colab-df-convert:hover {\n",
              "      background-color: #434B5C;\n",
              "      box-shadow: 0px 1px 3px 1px rgba(0, 0, 0, 0.15);\n",
              "      filter: drop-shadow(0px 1px 2px rgba(0, 0, 0, 0.3));\n",
              "      fill: #FFFFFF;\n",
              "    }\n",
              "  </style>\n",
              "\n",
              "    <script>\n",
              "      const buttonEl =\n",
              "        document.querySelector('#df-77de736f-3bc0-4ce4-914b-4d40766f3f2d button.colab-df-convert');\n",
              "      buttonEl.style.display =\n",
              "        google.colab.kernel.accessAllowed ? 'block' : 'none';\n",
              "\n",
              "      async function convertToInteractive(key) {\n",
              "        const element = document.querySelector('#df-77de736f-3bc0-4ce4-914b-4d40766f3f2d');\n",
              "        const dataTable =\n",
              "          await google.colab.kernel.invokeFunction('convertToInteractive',\n",
              "                                                    [key], {});\n",
              "        if (!dataTable) return;\n",
              "\n",
              "        const docLinkHtml = 'Like what you see? Visit the ' +\n",
              "          '<a target=\"_blank\" href=https://colab.research.google.com/notebooks/data_table.ipynb>data table notebook</a>'\n",
              "          + ' to learn more about interactive tables.';\n",
              "        element.innerHTML = '';\n",
              "        dataTable['output_type'] = 'display_data';\n",
              "        await google.colab.output.renderOutput(dataTable, element);\n",
              "        const docLink = document.createElement('div');\n",
              "        docLink.innerHTML = docLinkHtml;\n",
              "        element.appendChild(docLink);\n",
              "      }\n",
              "    </script>\n",
              "  </div>\n",
              "\n",
              "\n",
              "<div id=\"df-2eae09a0-7b3b-43f1-b99b-a37e3292d3e9\">\n",
              "  <button class=\"colab-df-quickchart\" onclick=\"quickchart('df-2eae09a0-7b3b-43f1-b99b-a37e3292d3e9')\"\n",
              "            title=\"Suggest charts\"\n",
              "            style=\"display:none;\">\n",
              "\n",
              "<svg xmlns=\"http://www.w3.org/2000/svg\" height=\"24px\"viewBox=\"0 0 24 24\"\n",
              "     width=\"24px\">\n",
              "    <g>\n",
              "        <path d=\"M19 3H5c-1.1 0-2 .9-2 2v14c0 1.1.9 2 2 2h14c1.1 0 2-.9 2-2V5c0-1.1-.9-2-2-2zM9 17H7v-7h2v7zm4 0h-2V7h2v10zm4 0h-2v-4h2v4z\"/>\n",
              "    </g>\n",
              "</svg>\n",
              "  </button>\n",
              "\n",
              "<style>\n",
              "  .colab-df-quickchart {\n",
              "      --bg-color: #E8F0FE;\n",
              "      --fill-color: #1967D2;\n",
              "      --hover-bg-color: #E2EBFA;\n",
              "      --hover-fill-color: #174EA6;\n",
              "      --disabled-fill-color: #AAA;\n",
              "      --disabled-bg-color: #DDD;\n",
              "  }\n",
              "\n",
              "  [theme=dark] .colab-df-quickchart {\n",
              "      --bg-color: #3B4455;\n",
              "      --fill-color: #D2E3FC;\n",
              "      --hover-bg-color: #434B5C;\n",
              "      --hover-fill-color: #FFFFFF;\n",
              "      --disabled-bg-color: #3B4455;\n",
              "      --disabled-fill-color: #666;\n",
              "  }\n",
              "\n",
              "  .colab-df-quickchart {\n",
              "    background-color: var(--bg-color);\n",
              "    border: none;\n",
              "    border-radius: 50%;\n",
              "    cursor: pointer;\n",
              "    display: none;\n",
              "    fill: var(--fill-color);\n",
              "    height: 32px;\n",
              "    padding: 0;\n",
              "    width: 32px;\n",
              "  }\n",
              "\n",
              "  .colab-df-quickchart:hover {\n",
              "    background-color: var(--hover-bg-color);\n",
              "    box-shadow: 0 1px 2px rgba(60, 64, 67, 0.3), 0 1px 3px 1px rgba(60, 64, 67, 0.15);\n",
              "    fill: var(--button-hover-fill-color);\n",
              "  }\n",
              "\n",
              "  .colab-df-quickchart-complete:disabled,\n",
              "  .colab-df-quickchart-complete:disabled:hover {\n",
              "    background-color: var(--disabled-bg-color);\n",
              "    fill: var(--disabled-fill-color);\n",
              "    box-shadow: none;\n",
              "  }\n",
              "\n",
              "  .colab-df-spinner {\n",
              "    border: 2px solid var(--fill-color);\n",
              "    border-color: transparent;\n",
              "    border-bottom-color: var(--fill-color);\n",
              "    animation:\n",
              "      spin 1s steps(1) infinite;\n",
              "  }\n",
              "\n",
              "  @keyframes spin {\n",
              "    0% {\n",
              "      border-color: transparent;\n",
              "      border-bottom-color: var(--fill-color);\n",
              "      border-left-color: var(--fill-color);\n",
              "    }\n",
              "    20% {\n",
              "      border-color: transparent;\n",
              "      border-left-color: var(--fill-color);\n",
              "      border-top-color: var(--fill-color);\n",
              "    }\n",
              "    30% {\n",
              "      border-color: transparent;\n",
              "      border-left-color: var(--fill-color);\n",
              "      border-top-color: var(--fill-color);\n",
              "      border-right-color: var(--fill-color);\n",
              "    }\n",
              "    40% {\n",
              "      border-color: transparent;\n",
              "      border-right-color: var(--fill-color);\n",
              "      border-top-color: var(--fill-color);\n",
              "    }\n",
              "    60% {\n",
              "      border-color: transparent;\n",
              "      border-right-color: var(--fill-color);\n",
              "    }\n",
              "    80% {\n",
              "      border-color: transparent;\n",
              "      border-right-color: var(--fill-color);\n",
              "      border-bottom-color: var(--fill-color);\n",
              "    }\n",
              "    90% {\n",
              "      border-color: transparent;\n",
              "      border-bottom-color: var(--fill-color);\n",
              "    }\n",
              "  }\n",
              "</style>\n",
              "\n",
              "  <script>\n",
              "    async function quickchart(key) {\n",
              "      const quickchartButtonEl =\n",
              "        document.querySelector('#' + key + ' button');\n",
              "      quickchartButtonEl.disabled = true;  // To prevent multiple clicks.\n",
              "      quickchartButtonEl.classList.add('colab-df-spinner');\n",
              "      try {\n",
              "        const charts = await google.colab.kernel.invokeFunction(\n",
              "            'suggestCharts', [key], {});\n",
              "      } catch (error) {\n",
              "        console.error('Error during call to suggestCharts:', error);\n",
              "      }\n",
              "      quickchartButtonEl.classList.remove('colab-df-spinner');\n",
              "      quickchartButtonEl.classList.add('colab-df-quickchart-complete');\n",
              "    }\n",
              "    (() => {\n",
              "      let quickchartButtonEl =\n",
              "        document.querySelector('#df-2eae09a0-7b3b-43f1-b99b-a37e3292d3e9 button');\n",
              "      quickchartButtonEl.style.display =\n",
              "        google.colab.kernel.accessAllowed ? 'block' : 'none';\n",
              "    })();\n",
              "  </script>\n",
              "</div>\n",
              "\n",
              "  <div id=\"id_b5ddac95-187c-4d59-b7ef-e108e7cc5b22\">\n",
              "    <style>\n",
              "      .colab-df-generate {\n",
              "        background-color: #E8F0FE;\n",
              "        border: none;\n",
              "        border-radius: 50%;\n",
              "        cursor: pointer;\n",
              "        display: none;\n",
              "        fill: #1967D2;\n",
              "        height: 32px;\n",
              "        padding: 0 0 0 0;\n",
              "        width: 32px;\n",
              "      }\n",
              "\n",
              "      .colab-df-generate:hover {\n",
              "        background-color: #E2EBFA;\n",
              "        box-shadow: 0px 1px 2px rgba(60, 64, 67, 0.3), 0px 1px 3px 1px rgba(60, 64, 67, 0.15);\n",
              "        fill: #174EA6;\n",
              "      }\n",
              "\n",
              "      [theme=dark] .colab-df-generate {\n",
              "        background-color: #3B4455;\n",
              "        fill: #D2E3FC;\n",
              "      }\n",
              "\n",
              "      [theme=dark] .colab-df-generate:hover {\n",
              "        background-color: #434B5C;\n",
              "        box-shadow: 0px 1px 3px 1px rgba(0, 0, 0, 0.15);\n",
              "        filter: drop-shadow(0px 1px 2px rgba(0, 0, 0, 0.3));\n",
              "        fill: #FFFFFF;\n",
              "      }\n",
              "    </style>\n",
              "    <button class=\"colab-df-generate\" onclick=\"generateWithVariable('df')\"\n",
              "            title=\"Generate code using this dataframe.\"\n",
              "            style=\"display:none;\">\n",
              "\n",
              "  <svg xmlns=\"http://www.w3.org/2000/svg\" height=\"24px\"viewBox=\"0 0 24 24\"\n",
              "       width=\"24px\">\n",
              "    <path d=\"M7,19H8.4L18.45,9,17,7.55,7,17.6ZM5,21V16.75L18.45,3.32a2,2,0,0,1,2.83,0l1.4,1.43a1.91,1.91,0,0,1,.58,1.4,1.91,1.91,0,0,1-.58,1.4L9.25,21ZM18.45,9,17,7.55Zm-12,3A5.31,5.31,0,0,0,4.9,8.1,5.31,5.31,0,0,0,1,6.5,5.31,5.31,0,0,0,4.9,4.9,5.31,5.31,0,0,0,6.5,1,5.31,5.31,0,0,0,8.1,4.9,5.31,5.31,0,0,0,12,6.5,5.46,5.46,0,0,0,6.5,12Z\"/>\n",
              "  </svg>\n",
              "    </button>\n",
              "    <script>\n",
              "      (() => {\n",
              "      const buttonEl =\n",
              "        document.querySelector('#id_b5ddac95-187c-4d59-b7ef-e108e7cc5b22 button.colab-df-generate');\n",
              "      buttonEl.style.display =\n",
              "        google.colab.kernel.accessAllowed ? 'block' : 'none';\n",
              "\n",
              "      buttonEl.onclick = () => {\n",
              "        google.colab.notebook.generateWithVariable('df');\n",
              "      }\n",
              "      })();\n",
              "    </script>\n",
              "  </div>\n",
              "\n",
              "    </div>\n",
              "  </div>\n"
            ],
            "application/vnd.google.colaboratory.intrinsic+json": {
              "type": "dataframe",
              "variable_name": "df",
              "summary": "{\n  \"name\": \"df\",\n  \"rows\": 10,\n  \"fields\": [\n    {\n      \"column\": \"StudyHours\",\n      \"properties\": {\n        \"dtype\": \"number\",\n        \"std\": 1.2427567921538165,\n        \"min\": 1.0,\n        \"max\": 5.0,\n        \"num_unique_values\": 8,\n        \"samples\": [\n          1.5,\n          5.0,\n          2.5\n        ],\n        \"semantic_type\": \"\",\n        \"description\": \"\"\n      }\n    },\n    {\n      \"column\": \"PrepCourse\",\n      \"properties\": {\n        \"dtype\": \"number\",\n        \"std\": 0,\n        \"min\": 0,\n        \"max\": 1,\n        \"num_unique_values\": 2,\n        \"samples\": [\n          1,\n          0\n        ],\n        \"semantic_type\": \"\",\n        \"description\": \"\"\n      }\n    },\n    {\n      \"column\": \"PassedExam\",\n      \"properties\": {\n        \"dtype\": \"number\",\n        \"std\": 0,\n        \"min\": 0,\n        \"max\": 1,\n        \"num_unique_values\": 2,\n        \"samples\": [\n          1,\n          0\n        ],\n        \"semantic_type\": \"\",\n        \"description\": \"\"\n      }\n    }\n  ]\n}"
            }
          },
          "metadata": {},
          "execution_count": 1
        }
      ],
      "source": [
        "import numpy as np\n",
        "import pandas as pd\n",
        "data = {\"StudyHours\": [2.5, 1.5, 3, 2, 4, 5, 1, 3.5, 2.5, 4],\n",
        "        \"PrepCourse\": [0, 0, 1, 0, 1, 1, 0, 1, 0, 1],\n",
        "        \"PassedExam\": [0, 0, 1, 0, 1, 1, 0, 1, 0, 1]}\n",
        "df = pd.DataFrame(data)\n",
        "df"
      ]
    },
    {
      "cell_type": "markdown",
      "source": [
        "#Checking whether ContinuousCols (Study Hours) is related with Categorical Predictor (Pass Exam)\n"
      ],
      "metadata": {
        "id": "DrPGaLJ_kgP8"
      }
    },
    {
      "cell_type": "code",
      "source": [
        "#Defining a function to find the statistical relationship with all the categorical variables\n",
        "def FunctionANOVA(inpData, TargetVariable, ContinuousPredictorList):\n",
        "    from scipy.stats import f_oneway\n",
        "\n",
        "    #Creating an empty list of final selected predictors\n",
        "    SelectedPredictors=[]\n",
        "\n",
        "    print('##### ANOVA Results ##### \\n')\n",
        "    for predictor in ContinuousPredictorList:\n",
        "        CategoricalGroupLists=inpData.groupby(TargetVariable)[predictor].apply(list)\n",
        "        ANOVAResults = f_oneway(*CategoricalGroupLists)\n",
        "\n",
        "        # If the ANOVA p-value is <0.05, that means we reject null hypothesis\n",
        "        if (ANOVAResults[1] < 0.05):\n",
        "            print(predictor, 'is correlated with', TargetVariable, '| p-value:', ANOVAResults[1])\n",
        "            SelectedPredictors.append(predictor)\n",
        "        else:\n",
        "            print(predictor, 'is not correlated with', TargetVariable, '| p-value:', ANOVAResults[1])\n",
        "\n",
        "    return(SelectedPredictors)\n",
        "\n",
        "#Calling the function to check which categorical variables are correlated with target\n",
        "ContinuousVariables=['StudyHours']\n",
        "FunctionANOVA(inpData=df, TargetVariable='PassedExam', ContinuousPredictorList=ContinuousVariables)\n"
      ],
      "metadata": {
        "colab": {
          "base_uri": "https://localhost:8080/"
        },
        "id": "RDCi6TvWkl8D",
        "outputId": "26a36018-b637-4bb6-e7ef-3b88d3af0b45"
      },
      "execution_count": 2,
      "outputs": [
        {
          "output_type": "stream",
          "name": "stdout",
          "text": [
            "##### ANOVA Results ##### \n",
            "\n",
            "StudyHours is correlated with PassedExam | p-value: 0.0019266321241544415\n"
          ]
        },
        {
          "output_type": "execute_result",
          "data": {
            "text/plain": [
              "['StudyHours']"
            ]
          },
          "metadata": {},
          "execution_count": 2
        }
      ]
    },
    {
      "cell_type": "markdown",
      "source": [
        "#Relationship Exploration: Categorical vs Continuous -- Box Plot\n",
        "When Target Variable is Categorical and predictor variable is Continuous we analyze the relation using bar/box plot and measure the strength of relation using ANOVA test"
      ],
      "metadata": {
        "id": "-cDvRRshk56q"
      }
    },
    {
      "cell_type": "code",
      "source": [
        "#**Check for Box plots, Correlation plots for the continuous columns**\n",
        "import matplotlib.pyplot as plt\n",
        "import seaborn as sns\n",
        "\n",
        "fig=plt.figure(figsize=(5,5))\n",
        "sns.boxplot(x=\"StudyHours\",y='PassedExam', data=df,showmeans=True, orient=\"h\")\n",
        "plt.title(\"StudyHours VS Passed Exam\",color='Red')\n",
        "plt.grid()\n",
        "plt.tight_layout()"
      ],
      "metadata": {
        "colab": {
          "base_uri": "https://localhost:8080/",
          "height": 507
        },
        "id": "qr-0xLWclPoQ",
        "outputId": "a85610ae-71f6-4a03-96fb-b9f2c77236f9"
      },
      "execution_count": 3,
      "outputs": [
        {
          "output_type": "display_data",
          "data": {
            "text/plain": [
              "<Figure size 500x500 with 1 Axes>"
            ],
            "image/png": "[encoded data removed]"
          },
          "metadata": {}
        }
      ]
    },
    {
      "cell_type": "markdown",
      "source": [
        "#Checking relationship between Column PrepatoryCourse and Exam Passed using CHi Sq Test since both are categorical Column"
      ],
      "metadata": {
        "id": "MpCc8-eNmLR0"
      }
    },
    {
      "cell_type": "code",
      "source": [
        "# Writing a function to find the correlation of all categorical variables with the Target variable\n",
        "def FunctionChisq(inpData, TargetVariable, CategoricalVariablesList):\n",
        "    from scipy.stats import chi2_contingency\n",
        "\n",
        "    # Creating an empty list of final selected predictors\n",
        "    SelectedPredictors=[]\n",
        "\n",
        "    for predictor in CategoricalVariablesList:\n",
        "        CrossTabResult=pd.crosstab(index=inpData[TargetVariable], columns=inpData[predictor])\n",
        "        ChiSqResult = chi2_contingency(CrossTabResult)\n",
        "\n",
        "        # If the ChiSq P-Value is <0.05, that means we reject H0\n",
        "        if (ChiSqResult[1] < 0.05):\n",
        "            print(predictor, 'is correlated with', TargetVariable, '| P-Value:', ChiSqResult[1])\n",
        "            SelectedPredictors.append(predictor)\n",
        "        else:\n",
        "            print(predictor, 'is NOT correlated with', TargetVariable, '| P-Value:', ChiSqResult[1])\n",
        "\n",
        "    return(SelectedPredictors)\n",
        "\n",
        "CategoricalVariables=[\"PrepCourse\"]\n",
        "\n",
        "# Calling the function\n",
        "FunctionChisq(inpData=df,\n",
        "              TargetVariable=\"PassedExam\",\n",
        "              CategoricalVariablesList= CategoricalVariables)"
      ],
      "metadata": {
        "colab": {
          "base_uri": "https://localhost:8080/"
        },
        "id": "N-apU6w4mOR7",
        "outputId": "d7961aab-e83e-4b79-aec7-3d8257ce1d1a"
      },
      "execution_count": 5,
      "outputs": [
        {
          "output_type": "stream",
          "name": "stdout",
          "text": [
            "PrepCourse is correlated with PassedExam | P-Value: 0.01141203638600166\n"
          ]
        },
        {
          "output_type": "execute_result",
          "data": {
            "text/plain": [
              "['PrepCourse']"
            ]
          },
          "metadata": {},
          "execution_count": 5
        }
      ]
    },
    {
      "cell_type": "markdown",
      "source": [
        "#Relationship exploration: Categorical Vs Categorical -- Grouped Bar Charts\n",
        "When the target variable is Categorical and the predictor is also Categorical then we explore the correlation between them visually using barplots and statistically using Chi-square test"
      ],
      "metadata": {
        "id": "WDhBujiXnHiT"
      }
    },
    {
      "cell_type": "code",
      "source": [
        "#bivariate plot-political.knowledge\n",
        "import seaborn as sns\n",
        "import matplotlib.pyplot as plt\n",
        "\n",
        "fig=plt.figure(figsize=(5,5))\n",
        "sns.barplot(x=\"PrepCourse\",  y=\"PassedExam\", data=df)\n",
        "\n",
        "# Customize the plot (optional)\n",
        "\n",
        "plt.xlabel(\"PrepCourse\")\n",
        "plt.ylabel(\"PassedExam\")\n",
        "plt.title(\"Exam Passed vs. Prep Course Enrollment\")\n",
        "plt.xticks(rotation=0)  # Rotate x-axis labels for better readability\n",
        "plt.show()"
      ],
      "metadata": {
        "colab": {
          "base_uri": "https://localhost:8080/",
          "height": 487
        },
        "id": "i2Ju3_qinQs9",
        "outputId": "cadbd86e-8312-4ee8-fdbb-1ecf71152839"
      },
      "execution_count": 6,
      "outputs": [
        {
          "output_type": "display_data",
          "data": {
            "text/plain": [
              "<Figure size 500x500 with 1 Axes>"
            ],
            "image/png": "[encoded data removed]"
          },
          "metadata": {}
        }
      ]
    },
    {
      "cell_type": "markdown",
      "source": [
        "#Logistic Regression Model"
      ],
      "metadata": {
        "id": "qwJjacG7n1Q1"
      }
    },
    {
      "cell_type": "code",
      "source": [
        "# Separate Target Variable and Predictor Variables\n",
        "TargetVariable='PassedExam'\n",
        "Predictors=[\"StudyHours\",\"PrepCourse\"]\n",
        "\n",
        "X=df[Predictors].values\n",
        "y=df[TargetVariable].values\n",
        "\n",
        "# Split the data into training and testing set\n",
        "from sklearn.model_selection import train_test_split\n",
        "X_train, X_test, y_train, y_test = train_test_split(X, y, test_size=0.7, random_state=20)\n",
        "\n",
        "# Logistic Regression\n",
        "from sklearn.linear_model import LogisticRegression\n",
        "import statsmodels as sm\n",
        "# choose parameter Penalty='l1' or C=1\n",
        "# choose different values for solver 'newton-cg', 'lbfgs', 'liblinear', 'sag', 'saga'\n",
        "clf = LogisticRegression(C=5,penalty='l2', solver='newton-cg')\n",
        "\n",
        "# Printing all the parameters of logistic regression\n",
        "# print(clf)\n",
        "\n",
        "# Creating the model on Training Data\n",
        "LOG=clf.fit(X_train,y_train)\n",
        "\n",
        "# Generating predictions on testing data\n",
        "prediction=LOG.predict(X_test)\n",
        "# Printing sample values of prediction in Testing data\n",
        "TestingData=pd.DataFrame(data=X_test, columns=Predictors)\n",
        "TestingData['PassedExam']=y_test\n",
        "TestingData['Predicted_PassedExam']=prediction\n",
        "print(TestingData.head())\n",
        "\n",
        "\n",
        "# Measuring accuracy on Testing Data\n",
        "from sklearn import metrics\n",
        "print(metrics.classification_report(y_test, prediction))\n",
        "print(metrics.confusion_matrix(prediction, y_test))\n",
        "\n",
        "# Printing the Overall Accuracy of the model\n",
        "F1_Score=metrics.f1_score(y_test, prediction, average='weighted')\n",
        "print('Accuracy of the model on Testing Sample Data:', round(F1_Score,2))\n",
        "\n",
        "\n",
        "\n",
        "# Importing cross validation function from sklearn\n",
        "#from sklearn.model_selection import cross_val_score\n",
        "\n",
        "# Running 10-Fold Cross validation on a given algorithm\n",
        "# Passing full data X and y because the K-fold will split the data and automatically choose train/test\n",
        "#Accuracy_Values=cross_val_score(LOG, X , y, cv=10, scoring='f1_weighted')\n",
        "#print('\\nAccuracy values for 10-fold Cross Validation:\\n',Accuracy_Values)\n",
        "#rint('\\nFinal Average Accuracy of the model:', round(Accuracy_Values.mean(),2))"
      ],
      "metadata": {
        "colab": {
          "base_uri": "https://localhost:8080/"
        },
        "id": "4UPNq2Ttn7k5",
        "outputId": "625b8117-5f1f-404f-ca33-d5ad3c0e69d5"
      },
      "execution_count": 8,
      "outputs": [
        {
          "output_type": "stream",
          "name": "stdout",
          "text": [
            "   StudyHours  PrepCourse  PassedExam  Predicted_PassedExam\n",
            "0         3.5         1.0           1                     1\n",
            "1         1.5         0.0           0                     0\n",
            "2         2.5         0.0           0                     0\n",
            "3         5.0         1.0           1                     1\n",
            "4         2.5         0.0           0                     0\n",
            "              precision    recall  f1-score   support\n",
            "\n",
            "           0       1.00      1.00      1.00         4\n",
            "           1       1.00      1.00      1.00         3\n",
            "\n",
            "    accuracy                           1.00         7\n",
            "   macro avg       1.00      1.00      1.00         7\n",
            "weighted avg       1.00      1.00      1.00         7\n",
            "\n",
            "[[4 0]\n",
            " [0 3]]\n",
            "Accuracy of the model on Testing Sample Data: 1.0\n"
          ]
        }
      ]
    },
    {
      "cell_type": "code",
      "source": [
        "from sklearn.metrics import classification_report , confusion_matrix\n",
        "\n",
        "# Model coefficients (weights)\n",
        "model = LogisticRegression()\n",
        "model.fit(X, y)\n",
        "print(\"Model coefficients (weights):\")\n",
        "print(model.coef_)  # Array of coefficients for each feature\n",
        "\n",
        "# Classification report\n",
        "print(\"Classification report:\")\n",
        "y_pred = model.predict(X)  # Predicted labels\n",
        "print(classification_report(y, y_pred))  # Detailed report on precision, recall, F1-score, etc.\n",
        "\n",
        "# Confusion matrix\n",
        "print(\"Confusion matrix:\")\n",
        "print(confusion_matrix(y, y_pred))  # Shows true vs. predicted classifications\n",
        "\n",
        "\n",
        "print(\"Model intercept (bias):\")\n",
        "print(model.intercept_)  # Single value for the intercept"
      ],
      "metadata": {
        "colab": {
          "base_uri": "https://localhost:8080/"
        },
        "id": "KiY0KSXXpBTN",
        "outputId": "297f314b-69b8-41a5-e105-344650462daa"
      },
      "execution_count": 9,
      "outputs": [
        {
          "output_type": "stream",
          "name": "stdout",
          "text": [
            "Model coefficients (weights):\n",
            "[[1.22263715 0.90970551]]\n",
            "Classification report:\n",
            "              precision    recall  f1-score   support\n",
            "\n",
            "           0       1.00      1.00      1.00         5\n",
            "           1       1.00      1.00      1.00         5\n",
            "\n",
            "    accuracy                           1.00        10\n",
            "   macro avg       1.00      1.00      1.00        10\n",
            "weighted avg       1.00      1.00      1.00        10\n",
            "\n",
            "Confusion matrix:\n",
            "[[5 0]\n",
            " [0 5]]\n",
            "Model intercept (bias):\n",
            "[-3.98076759]\n"
          ]
        }
      ]
    },
    {
      "cell_type": "markdown",
      "source": [
        "We can analyse from the above model that students who have taken the prepatory courses have more chance in passing the exam and need to study minimum 3 hrs in order to have more chance in passing the exam."
      ],
      "metadata": {
        "id": "5AkrltlQpZRQ"
      }
    }
  ]
}